{
  "nbformat": 4,
  "nbformat_minor": 0,
  "metadata": {
    "colab": {
      "provenance": []
    },
    "kernelspec": {
      "name": "python3",
      "display_name": "Python 3"
    },
    "language_info": {
      "name": "python"
    }
  },
  "cells": [
    {
      "cell_type": "markdown",
      "source": [
        "# **Particle Discovery Lab**\n",
        "Google Colab Version\n"
      ],
      "metadata": {
        "id": "Jc4nvBcm2TDu"
      }
    },
    {
      "cell_type": "code",
      "source": [
        "# This action is similar to connecting an external disk and accesing the information from there. In this case the external disk is your own Drive.\n",
        "# Please give all the permissions to access your Drive.\n",
        "from google.colab import drive\n",
        "drive.mount('/content/drive')"
      ],
      "metadata": {
        "colab": {
          "base_uri": "https://localhost:8080/"
        },
        "id": "nvKMTEgyuq4n",
        "outputId": "1da52872-21a0-4f99-d098-b87bbf2711b1"
      },
      "execution_count": null,
      "outputs": [
        {
          "output_type": "stream",
          "name": "stdout",
          "text": [
            "Drive already mounted at /content/drive; to attempt to forcibly remount, call drive.mount(\"/content/drive\", force_remount=True).\n"
          ]
        }
      ]
    },
    {
      "cell_type": "code",
      "source": [
        "# This addresses the specific folder where all the files are be localted.\n",
        "# In your own case, copy the route of the folder and paste it instead of '/content/drive/MyDrive/CMS'.\n",
        "import sys\n",
        "sys.path.append('/content/drive/MyDrive/CMS')"
      ],
      "metadata": {
        "id": "GZ-h7REO419G"
      },
      "execution_count": null,
      "outputs": []
    },
    {
      "cell_type": "code",
      "execution_count": null,
      "metadata": {
        "id": "jmlgIHxlqKWA"
      },
      "outputs": [],
      "source": [
        "# Import all libraries\n",
        "import math, pickle\n",
        "import matplotlib.pyplot as plt\n",
        "import numpy as np\n",
        "from scipy.optimize import curve_fit\n",
        "from scipy.stats import norm\n",
        "import pollsf as psf"
      ]
    },
    {
      "cell_type": "code",
      "source": [
        "# Open the data file provided by your instructor\n",
        "# Instead of '/content/drive/MyDrive/CMS/DoubleMuParked_100k.pkl' copy the route where DoubleMuParked_100k.pkl is located in your Drive.\n",
        "data = pickle.load(open('/content/drive/MyDrive/CMS/DoubleMuParked_100k.pkl','rb'))"
      ],
      "metadata": {
        "id": "ZnRt8Ilctb66"
      },
      "execution_count": null,
      "outputs": []
    },
    {
      "cell_type": "markdown",
      "source": [
        "## **Activity 1 : Reconstruction**\n",
        "\n",
        "Your first task is to load the CMS data file!\n",
        "Each data element has 8 pieces of information:\n",
        "\n",
        "`E1`, `E2`, `px1`, `px2`, `py1`, `py2`, `pz1`, `pz2`\n",
        "\n",
        "First choose a number of events to process, and the boundaries of your analysis window:"
      ],
      "metadata": {
        "id": "omzLbZVpv-fb"
      }
    },
    {
      "cell_type": "code",
      "source": [
        "Ntoprocess = int(input(\"How many events to process? \"))\n",
        "Min = float(input(\"Type in your min (in GeV): \"))\n",
        "Max = float(input(\"Type in your max (in GeV): \"))\n",
        "n = int(input(\"How many x-axis bins would you like? \"))\n",
        "\n",
        "# Use these to compute a bin width\n",
        "BinWidth = (Max - Min)/n\n",
        "\n",
        "# let's get some empty objects ready for later\n",
        "Masses = []\n",
        "KineticEnergy = []"
      ],
      "metadata": {
        "colab": {
          "base_uri": "https://localhost:8080/"
        },
        "id": "gVawWYvpv3iz",
        "outputId": "3500fced-fcc5-4695-adf7-d6707b832dc3"
      },
      "execution_count": null,
      "outputs": [
        {
          "name": "stdout",
          "output_type": "stream",
          "text": [
            "How many events to process? 100000\n",
            "Type in your min (in GeV): 2.7\n",
            "Type in your max (in GeV): 5\n",
            "How many x-axis bins would you like? 100\n"
          ]
        }
      ]
    },
    {
      "cell_type": "markdown",
      "source": [
        "# **Activity 2**\n",
        "Now we're ready to loop over the events in the data file and calculate the invariant mass of particle X.\n",
        "\n",
        "\n",
        "*   How will you use the 8 pieces of information to calculate the mass of X?\n",
        "\n",
        "*   How can you save only the events with a mass inside your window?\n",
        "\n",
        "* How can you calculate the relativistic kinetic energy of particle X?\n",
        "With the following formula:\n"
      ],
      "metadata": {
        "id": "Bd-8kwlRzVxy"
      }
    },
    {
      "cell_type": "code",
      "source": [
        "print (\"Looping over\",Ntoprocess,\"events...\")\n",
        "\n",
        "for i in range(Ntoprocess):\n",
        "\n",
        "    ## COMPUTE the mass of particle X that decays to 2 muons\n",
        "\n",
        "    ## Store mass and KE for events with mass inside your window\n",
        "\n",
        "\n",
        "print(\"Done!\")"
      ],
      "metadata": {
        "colab": {
          "base_uri": "https://localhost:8080/"
        },
        "id": "nMGwpli2ycQT",
        "outputId": "424bed42-c9a5-4117-e76a-8a07ab175de1"
      },
      "execution_count": null,
      "outputs": [
        {
          "output_type": "stream",
          "name": "stdout",
          "text": [
            "Looping over 100000 events...\n",
            "Done!\n"
          ]
        }
      ]
    },
    {
      "cell_type": "markdown",
      "source": [
        "## **Activity 3**\n",
        "### Create mass and Kinetic Energy histograms              \n",
        "\n",
        "#### THINK:\n",
        " * What do you expect your kinetic energy histogram to look like?                   \n",
        " * What do you expect your mass histogram to look like?                             \n",
        "\n",
        "Make a quick sketch of what you expect for both plots                            \n",
        "                                                                                         \n",
        "#### Vocab: imagine plot with 3 bins on x-axis: 0-10, 10-20, 20-30                           \n",
        " * \"Bin edges\": 0, 10, 20, 30                                                              \n",
        " * \"Bin centers\": 5, 15, 25 (want dots on plot to be here!)                                \n",
        " * \"Bin width\": 10  (you already have this for mass)\n",
        "\n",
        "#### Tools: plt.hist\n",
        "plt.hist creates histograms when given a list of data, number of bins, and x-axis range. Look up its arguments and outputs!\n",
        "\n",
        "# **Create a mass histogram:**"
      ],
      "metadata": {
        "id": "KXh1850G49Fz"
      }
    },
    {
      "cell_type": "code",
      "source": [
        "# Draw your mass histogram. Use plt.show() to draw your plot.\n",
        "# Be sure to save your y-axis values!"
      ],
      "metadata": {
        "id": "fyqVqGI-7e-I"
      },
      "execution_count": null,
      "outputs": []
    },
    {
      "cell_type": "markdown",
      "source": [
        "**Think**:\n",
        "* What should the Error Bars be for each bin?\n",
        "\n",
        "\n",
        "* What should you do if the bin has zero entries?\n",
        "\n",
        "Tools: plt.errorbar:\n",
        "plt.errorbar draws dots+bars when given x-axis bin centers, y-axis values, and up/down uncertainties. Look up its command options"
      ],
      "metadata": {
        "id": "LKJ85VOHER8t"
      }
    },
    {
      "cell_type": "markdown",
      "source": [
        " # **Create with error bars of counts vs kinetic energy**"
      ],
      "metadata": {
        "id": "_AWw6MAN8gkg"
      }
    },
    {
      "cell_type": "code",
      "source": [
        "# Get the y-axis values by drawing a new KE histogram\n",
        "\n",
        "# Calculate the uncertainties\n",
        "\n",
        "# Define an array of bin centers\n",
        "\n",
        "# Draw the new plot with error bars"
      ],
      "metadata": {
        "id": "Xi8RbbHqIv_i"
      },
      "execution_count": 1,
      "outputs": []
    },
    {
      "cell_type": "markdown",
      "source": [
        "## **Great Work!**\n"
      ],
      "metadata": {
        "id": "J8CFkTS59Bkl"
      }
    },
    {
      "cell_type": "markdown",
      "source": [
        "## **Activity 4 : Fitting**\n",
        "Fit the background on either side of the signal peak in your mass distribution.\n",
        "\n",
        "#### Vocab: imagine a mass plot with a bump in the middle\n",
        " * \"Peak window\": region along x-axis under the peak\n",
        " * \"background\": smoothly falling slope of random events, including some of the events in the peak window\n",
        " * \"signal\": events in the peak window minus the background"
      ],
      "metadata": {
        "id": "tF2xYqwyLGVd"
      }
    },
    {
      "cell_type": "code",
      "source": [
        "# Choose mass values or bin numbers for where the peak lies\n",
        "peakmin = float(input('Enter your peak minimum (in GeV) '))\n",
        "peakmax = float(input('Enter your peak maximum (in GeV) '))\n",
        "\n",
        "# Convert these mass values to bin numbers\n",
        "\n",
        "# REMOVE the peak window completely from your list of:\n",
        "# mass bin centers, mass counts, and mass uncertainties.\n",
        "# This forms your BACKGROUND dataset"
      ],
      "metadata": {
        "colab": {
          "base_uri": "https://localhost:8080/",
          "height": 371
        },
        "id": "WuKa2qKyK_ju",
        "outputId": "88d164cd-1142-4b1f-f9a7-00cc9a1c9eb9"
      },
      "execution_count": 2,
      "outputs": [
        {
          "output_type": "error",
          "ename": "KeyboardInterrupt",
          "evalue": "Interrupted by user",
          "traceback": [
            "\u001b[0;31m---------------------------------------------------------------------------\u001b[0m",
            "\u001b[0;31mKeyboardInterrupt\u001b[0m                         Traceback (most recent call last)",
            "\u001b[0;32m<ipython-input-2-62d122afc01d>\u001b[0m in \u001b[0;36m<cell line: 2>\u001b[0;34m()\u001b[0m\n\u001b[1;32m      1\u001b[0m \u001b[0;31m# Choose mass values or bin numbers for where the peak lies\u001b[0m\u001b[0;34m\u001b[0m\u001b[0;34m\u001b[0m\u001b[0m\n\u001b[0;32m----> 2\u001b[0;31m \u001b[0mpeakmin\u001b[0m \u001b[0;34m=\u001b[0m \u001b[0mfloat\u001b[0m\u001b[0;34m(\u001b[0m\u001b[0minput\u001b[0m\u001b[0;34m(\u001b[0m\u001b[0;34m'Enter your peak minimum (in GeV) '\u001b[0m\u001b[0;34m)\u001b[0m\u001b[0;34m)\u001b[0m\u001b[0;34m\u001b[0m\u001b[0;34m\u001b[0m\u001b[0m\n\u001b[0m\u001b[1;32m      3\u001b[0m \u001b[0mpeakmax\u001b[0m \u001b[0;34m=\u001b[0m \u001b[0mfloat\u001b[0m\u001b[0;34m(\u001b[0m\u001b[0minput\u001b[0m\u001b[0;34m(\u001b[0m\u001b[0;34m'Enter your peak maximum (in GeV) '\u001b[0m\u001b[0;34m)\u001b[0m\u001b[0;34m)\u001b[0m\u001b[0;34m\u001b[0m\u001b[0;34m\u001b[0m\u001b[0m\n\u001b[1;32m      4\u001b[0m \u001b[0;34m\u001b[0m\u001b[0m\n\u001b[1;32m      5\u001b[0m \u001b[0;31m# Convert these mass values to bin numbers\u001b[0m\u001b[0;34m\u001b[0m\u001b[0;34m\u001b[0m\u001b[0m\n",
            "\u001b[0;32m/usr/local/lib/python3.10/dist-packages/ipykernel/kernelbase.py\u001b[0m in \u001b[0;36mraw_input\u001b[0;34m(self, prompt)\u001b[0m\n\u001b[1;32m    849\u001b[0m                 \u001b[0;34m\"raw_input was called, but this frontend does not support input requests.\"\u001b[0m\u001b[0;34m\u001b[0m\u001b[0;34m\u001b[0m\u001b[0m\n\u001b[1;32m    850\u001b[0m             )\n\u001b[0;32m--> 851\u001b[0;31m         return self._input_request(str(prompt),\n\u001b[0m\u001b[1;32m    852\u001b[0m             \u001b[0mself\u001b[0m\u001b[0;34m.\u001b[0m\u001b[0m_parent_ident\u001b[0m\u001b[0;34m,\u001b[0m\u001b[0;34m\u001b[0m\u001b[0;34m\u001b[0m\u001b[0m\n\u001b[1;32m    853\u001b[0m             \u001b[0mself\u001b[0m\u001b[0;34m.\u001b[0m\u001b[0m_parent_header\u001b[0m\u001b[0;34m,\u001b[0m\u001b[0;34m\u001b[0m\u001b[0;34m\u001b[0m\u001b[0m\n",
            "\u001b[0;32m/usr/local/lib/python3.10/dist-packages/ipykernel/kernelbase.py\u001b[0m in \u001b[0;36m_input_request\u001b[0;34m(self, prompt, ident, parent, password)\u001b[0m\n\u001b[1;32m    893\u001b[0m             \u001b[0;32mexcept\u001b[0m \u001b[0mKeyboardInterrupt\u001b[0m\u001b[0;34m:\u001b[0m\u001b[0;34m\u001b[0m\u001b[0;34m\u001b[0m\u001b[0m\n\u001b[1;32m    894\u001b[0m                 \u001b[0;31m# re-raise KeyboardInterrupt, to truncate traceback\u001b[0m\u001b[0;34m\u001b[0m\u001b[0;34m\u001b[0m\u001b[0m\n\u001b[0;32m--> 895\u001b[0;31m                 \u001b[0;32mraise\u001b[0m \u001b[0mKeyboardInterrupt\u001b[0m\u001b[0;34m(\u001b[0m\u001b[0;34m\"Interrupted by user\"\u001b[0m\u001b[0;34m)\u001b[0m \u001b[0;32mfrom\u001b[0m \u001b[0;32mNone\u001b[0m\u001b[0;34m\u001b[0m\u001b[0;34m\u001b[0m\u001b[0m\n\u001b[0m\u001b[1;32m    896\u001b[0m             \u001b[0;32mexcept\u001b[0m \u001b[0mException\u001b[0m \u001b[0;32mas\u001b[0m \u001b[0me\u001b[0m\u001b[0;34m:\u001b[0m\u001b[0;34m\u001b[0m\u001b[0;34m\u001b[0m\u001b[0m\n\u001b[1;32m    897\u001b[0m                 \u001b[0mself\u001b[0m\u001b[0;34m.\u001b[0m\u001b[0mlog\u001b[0m\u001b[0;34m.\u001b[0m\u001b[0mwarning\u001b[0m\u001b[0;34m(\u001b[0m\u001b[0;34m\"Invalid Message:\"\u001b[0m\u001b[0;34m,\u001b[0m \u001b[0mexc_info\u001b[0m\u001b[0;34m=\u001b[0m\u001b[0;32mTrue\u001b[0m\u001b[0;34m)\u001b[0m\u001b[0;34m\u001b[0m\u001b[0;34m\u001b[0m\u001b[0m\n",
            "\u001b[0;31mKeyboardInterrupt\u001b[0m: Interrupted by user"
          ]
        }
      ]
    },
    {
      "cell_type": "markdown",
      "source": [
        "## **Perform a polynominal fit to the background**\n",
        "#### **Think**:\n",
        "Which type of curve do you expect will match your data best? Imagine a curve connecting the two sides under your peak.\n",
        "\n",
        "#### **Tool**:\n",
        "The function *pollsf* is defined locally in pollsf.py.  Read pollsf.py to find information on the input and output parameters.\n",
        "\n",
        "#### **EVALUATE your fit**:\n",
        " * Plotting: does the shape make any sense?\n",
        " * Search the definition of $\\chi^{2}$  on the internet. It describes the difference between the points and the fitted curve. Large $\\chi^{2}$ tends to mean more difference or scatter of points.\n",
        " * Optimally, $\\chi^{2}$ . (# points - # parameters) is around 1\n",
        "\n",
        "#### Repeat fitting until you are satisfied with both of these metrics"
      ],
      "metadata": {
        "id": "PzMi1YxLflKP"
      }
    },
    {
      "cell_type": "code",
      "source": [
        "# Use pollsf to fit a polynomial\n",
        "numpars = int(input('How many polynomial parameters? 1 (flat), 2 (line), etc: '))\n",
        "\n",
        "# Print the chi2 metric described above\n",
        "\n",
        "# Plot the fit on top of the background points\n",
        "# Avoid using connecting lines between the points in your background fit"
      ],
      "metadata": {
        "colab": {
          "base_uri": "https://localhost:8080/"
        },
        "id": "H4h0PrTUfkYy",
        "outputId": "63a95a58-228a-4286-b701-d2ab6c05778b"
      },
      "execution_count": null,
      "outputs": [
        {
          "name": "stdout",
          "output_type": "stream",
          "text": [
            "How many polynomial parameters? 1 (flat), 2 (line), etc: 3\n"
          ]
        }
      ]
    },
    {
      "cell_type": "markdown",
      "source": [
        "\n",
        "# **Substraction**\n",
        "Now you will subtract that background from data.\n",
        "\n",
        "In order to subtract the background contribution from your orginal data, you will need to estimate the background in your signal peak window.\n",
        "\n",
        "**Think**:\n",
        "\n",
        "How will you estimate background in the signal peak window?\n"
      ],
      "metadata": {
        "id": "y3bUpuYH_D8q"
      }
    },
    {
      "cell_type": "code",
      "source": [
        "# Plot your background curve on top of your mass histogram"
      ],
      "metadata": {
        "id": "9PK2vOnD--DZ"
      },
      "execution_count": null,
      "outputs": []
    },
    {
      "cell_type": "markdown",
      "source": [
        "\n",
        "**Think:**\n",
        "\n",
        "Are your estimated bkg values at all uncertain?\n",
        "\n",
        "How could you evaluate an uncertainty on the number of background events in each bin?\n",
        "\n",
        "What do you expect the curve to look like after background subtraction?\n",
        "\n",
        "**Evaluate signal = data - background**\n",
        "\n",
        "**Think:**\n",
        "\n",
        "Do you have any bins where the background estimate is larger than the data? What do you think about this situation?\n",
        "\n",
        "How could you find the uncertainty in data - background?\n"
      ],
      "metadata": {
        "id": "Dgm-UPLE_sNm"
      }
    },
    {
      "cell_type": "code",
      "source": [
        "# Subtract background and plot the resulting signal-only peak with error bars"
      ],
      "metadata": {
        "id": "yl1oE_2h_0RR"
      },
      "execution_count": null,
      "outputs": []
    },
    {
      "cell_type": "markdown",
      "source": [
        "# **Great Work!**"
      ],
      "metadata": {
        "id": "j8rpX5wj_6Y9"
      }
    },
    {
      "cell_type": "markdown",
      "source": [
        "# **Activity 5: Characterization**\n",
        "\n",
        "Determine which particle you've discovered and use a fit to find its properties.\n",
        "**Extract** the characteristics of your signal peak\n",
        "\n",
        "**Think**:\n",
        "\n",
        "Which statistical distribution describes your signal peak?\n",
        "\n",
        "# **Tools**\n",
        "**A Gaussian function**\n",
        "*     Inputs: x (list of x-axis values), amplitude, mean, sigma (parameters of a Gaussian distribution.\n",
        "*     Outputs: list of y-axis values corresponding to the Gaussian curve\n",
        "\n",
        "**The curve_fit function**\n",
        "\n",
        "*   Outputs: it returns lists of fitted parameters and uncertainties.\n",
        "*   Inputs: it is given a fit function, x and y-axis values, and initial conditions for the function's parameters.\n",
        "\n",
        "Usage Example: gausParams,gausUncerts = curve_fit(fit function, x, y, initial conditions)\n",
        "\n",
        "Search about how to use this function at scipy.org\n",
        "\n"
      ],
      "metadata": {
        "id": "DfgWJ3sAA9k5"
      }
    },
    {
      "cell_type": "code",
      "source": [
        "def Gaus(x,amplitude,mean,sigma):\n",
        "    return amplitude*np.exp(-(x-mean)**2/(2*sigma**2))"
      ],
      "metadata": {
        "id": "0tL3G9XD_-Sf"
      },
      "execution_count": null,
      "outputs": []
    },
    {
      "cell_type": "code",
      "source": [
        "# Use curve_fit to fit your signal peak using Gaus as the fit function\n",
        "\n",
        "# Plot the fitted function on top of your signal distribution\n",
        "# xGaus below gives you lots of x-axis points to plot a smooth curve\n",
        "xGaus = np.linspace(Min,Max,501).tolist()\n",
        "\n",
        "# Print out the mean and width of your curve with uncertainties"
      ],
      "metadata": {
        "id": "mPneGux_CZrf"
      },
      "execution_count": null,
      "outputs": []
    },
    {
      "cell_type": "markdown",
      "source": [
        "**Compare:** the number of signal events in signal peak window to the number of background events under the peak window.\n",
        "\n",
        "**Think:**\n",
        "\n",
        "How can you find the number of events in the signal peak?\n",
        "\n",
        "How can you find the number of bkg events under the peak?\n",
        "\n",
        "**Print**: these values along with their uncertainties"
      ],
      "metadata": {
        "id": "K8v9FkOPCndZ"
      }
    },
    {
      "cell_type": "code",
      "source": [
        "# Print signal and background counts with uncertainties"
      ],
      "metadata": {
        "id": "v1r3Wg43Clw7"
      },
      "execution_count": null,
      "outputs": []
    },
    {
      "cell_type": "markdown",
      "source": [
        "\n",
        "#**Almost done!**\n",
        "\n",
        "**Think**:\n",
        "* Can you statistically distinguish signal from background?\n",
        "* Can you find this particle with a web search for you mass?\n",
        "\n",
        "Research this particle, find its width (capital Gamma):\n",
        "* Do your mass & width agree with the known values?\n",
        "* Find percent differences and also discrepancy/significance.\n",
        "* If your width is much larger than accepted, why might this be?\n",
        "\n"
      ],
      "metadata": {
        "id": "nVaESUHlDJ12"
      }
    }
  ]
}